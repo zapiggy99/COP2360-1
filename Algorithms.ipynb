{
  "cells": [
    {
      "cell_type": "markdown",
      "id": "a5ff112e",
      "metadata": {
        "id": "a5ff112e"
      },
      "source": [
        "# Data Structures"
      ]
    },
    {
      "cell_type": "markdown",
      "id": "fa558f3b",
      "metadata": {
        "id": "fa558f3b"
      },
      "source": [
        "**Physical vs Logical Data Structure:**"
      ]
    },
    {
      "cell_type": "markdown",
      "id": "77b8565a",
      "metadata": {
        "id": "77b8565a"
      },
      "source": [
        "https://dotnettutorials.net/lesson/physical-vs-logical-data-structure/"
      ]
    },
    {
      "cell_type": "markdown",
      "id": "eac2ac10",
      "metadata": {
        "id": "eac2ac10"
      },
      "source": [
        "# Notation in Data Structure"
      ]
    },
    {
      "cell_type": "code",
      "execution_count": null,
      "id": "5a86110f",
      "metadata": {
        "id": "5a86110f",
        "outputId": "9778778a-d750-436e-f1d1-564a0d39d6a2"
      },
      "outputs": [
        {
          "name": "stderr",
          "output_type": "stream",
          "text": [
            "C:\\ProgramData\\Anaconda3\\lib\\site-packages\\IPython\\core\\display.py:724: UserWarning: Consider using IPython.display.IFrame instead\n",
            "  warnings.warn(\"Consider using IPython.display.IFrame instead\")\n"
          ]
        },
        {
          "data": {
            "text/html": [
              "<iframe width=\"560\" height=\"315\" src=\"https://www.youtube.com/embed/A03oI0znAoc\" title=\"YouTube video player\" frameborder=\"0\" allow=\"accelerometer; autoplay; clipboard-write; encrypted-media; gyroscope; picture-in-picture\" allowfullscreen></iframe>"
            ],
            "text/plain": [
              "<IPython.core.display.HTML object>"
            ]
          },
          "execution_count": 1,
          "metadata": {},
          "output_type": "execute_result"
        }
      ],
      "source": [
        "from IPython.display import HTML\n",
        "HTML('<iframe width=\"560\" height=\"315\" src=\"https://www.youtube.com/embed/A03oI0znAoc\" title=\"YouTube video player\" frameborder=\"0\" allow=\"accelerometer; autoplay; clipboard-write; encrypted-media; gyroscope; picture-in-picture\" allowfullscreen></iframe>')\n"
      ]
    },
    {
      "cell_type": "markdown",
      "id": "2fc9c522",
      "metadata": {
        "id": "2fc9c522"
      },
      "source": [
        "Asymptotic Notations\n",
        "* https://www.youtube.com/watch?v=Mo4vesaut8g  <~~~ yay\n",
        "* https://www.geeksforgeeks.org/difference-between-big-oh-big-omega-and-big-theta/\n",
        "* https://dotnettutorials.net/lesson/properties-of-asymptotic-notations/\n",
        "* https://www.tutorialspoint.com/big-omega-and-big-thera-notation"
      ]
    },
    {
      "cell_type": "markdown",
      "id": "11554434",
      "metadata": {
        "id": "11554434"
      },
      "source": [
        "## Big-O Notation\n",
        "Worst Case Time complexity of an algorithm\n",
        "Big oh notation is used to describe asymptotic upper bound.\n",
        "* https://en.wikipedia.org/wiki/Big_O_notation\n",
        "* https://www.youtube.com/watch?v=D6xkbGLQesk\n",
        "* https://www.youtube.com/watch?v=M0_9EpsxMjY\n",
        "* https://dotnettutorials.net/lesson/asymptotic-notation/\n",
        "* https://www.khanacademy.org/computing/computer-science/algorithms/asymptotic-notation/a/big-big-omega-notation\n",
        "* https://www2.cs.arizona.edu/classes/cs345/summer14/files/bigO.pdf"
      ]
    },
    {
      "cell_type": "markdown",
      "id": "e2a68d8f",
      "metadata": {
        "id": "e2a68d8f"
      },
      "source": [
        "https://www.youtube.com/watch?v=RBSGKlAvoiM"
      ]
    },
    {
      "cell_type": "markdown",
      "id": "985baa41",
      "metadata": {
        "id": "985baa41"
      },
      "source": [
        "# Selection Sort"
      ]
    },
    {
      "cell_type": "code",
      "execution_count": null,
      "id": "cf689052",
      "metadata": {
        "id": "cf689052",
        "outputId": "f80ff379-a1d8-4fd0-cd69-2862799aae7d"
      },
      "outputs": [
        {
          "name": "stdout",
          "output_type": "stream",
          "text": [
            "Passed 100/100 tests\n"
          ]
        }
      ],
      "source": [
        "# Selection Sort\n",
        "def SelectionSort(A):\n",
        "    for i in range(len(A)):\n",
        "        minIndex = i\n",
        "        for j in range(i + 1, len(A)):\n",
        "            if A[j] < A[minIndex] and j != minIndex:\n",
        "                minIndex = j\n",
        "        A[i], A[minIndex] = A[minIndex], A[i]\n",
        "\n",
        "\n",
        "# Test\n",
        "import random\n",
        "num_failed = 0\n",
        "total_tests = 100\n",
        "for i in range(total_tests):\n",
        "    length = random.randint(2, 50)\n",
        "    lst = [random.randint(0, 100) for _ in range(length)]\n",
        "    SelectionSort(lst)\n",
        "\n",
        "    # Check if list has been sorted\n",
        "    for i in range(len(lst) - 1):\n",
        "        if lst[i] > lst[i + 1]:\n",
        "            num_failed += 1\n",
        "            print(f\"Test #{i:<2}: List is not sorted\")\n",
        "            break\n",
        "    if num_failed > 0:\n",
        "        break\n",
        "\n",
        "if num_failed > 0:\n",
        "    print(f\"\\nFailed\")\n",
        "else:\n",
        "    print(f\"Passed {total_tests}/{total_tests} tests\")"
      ]
    },
    {
      "cell_type": "markdown",
      "id": "57ea5816",
      "metadata": {
        "id": "57ea5816"
      },
      "source": [
        "### LOOP INVARIANT\n",
        "\n",
        "At the start of the each iteration of the outer **for** loop of lines 1-6, the subarray A[1..i - 1]A[1..i−1] consists of i - 1i−1 smallest elements of AA, sorted in increasing order."
      ]
    },
    {
      "cell_type": "markdown",
      "id": "6eabb17a",
      "metadata": {
        "id": "6eabb17a"
      },
      "source": [
        "### WHY ONLY FIRST N - 1 ELEMENTS\n",
        "The algorithm needs to run for only the first *n−1* elements, rather than for all *n* elements because the last iteration will compare *A[n]* with the minimum element in *A[1..n−1]* in line 4 and swap them if necessary. So, there is no need to continue the algorithm for all the way to the last element.\n",
        "https://atekihcan.github.io/CLRS/02/E02.02-02/"
      ]
    },
    {
      "cell_type": "markdown",
      "id": "9882a831",
      "metadata": {
        "id": "9882a831"
      },
      "source": [
        "### RUNNING TIMES\n",
        "For both the best-case (sorted array) and worst-case (reverse sorted array), the algorithm will anyway take one element at a time and compare it with all the other elements. In other words, each of the nn elements will be compared with rest of the n - 1n−1 elements. So, the running times for both scenario will be *Θ(n^2)*.\n",
        " The above reasoning should be sufficient to understand or convey why the runtime would be *Θ(n^2)*. However, for the sake of completeness, an exhaustive mathematical proof is given below."
      ]
    },
    {
      "cell_type": "markdown",
      "id": "03896fcd",
      "metadata": {
        "id": "03896fcd"
      },
      "source": [
        "# Merge Sort"
      ]
    },
    {
      "cell_type": "code",
      "execution_count": null,
      "id": "4c845a57",
      "metadata": {
        "id": "4c845a57",
        "outputId": "d939671b-a685-4639-d774-ff2dd5e72970"
      },
      "outputs": [
        {
          "data": {
            "text/html": [
              "<iframe width=\"560\" height=\"315\" src=\"https://www.youtube.com/embed/mB5HXBb_HY8\" title=\"YouTube video player\" frameborder=\"0\" allow=\"accelerometer; autoplay; clipboard-write; encrypted-media; gyroscope; picture-in-picture\" allowfullscreen></iframe>"
            ],
            "text/plain": [
              "<IPython.core.display.HTML object>"
            ]
          },
          "execution_count": 3,
          "metadata": {},
          "output_type": "execute_result"
        }
      ],
      "source": [
        "from IPython.display import HTML\n",
        "HTML('<iframe width=\"560\" height=\"315\" src=\"https://www.youtube.com/embed/mB5HXBb_HY8\" title=\"YouTube video player\" frameborder=\"0\" allow=\"accelerometer; autoplay; clipboard-write; encrypted-media; gyroscope; picture-in-picture\" allowfullscreen></iframe>')\n"
      ]
    },
    {
      "cell_type": "code",
      "execution_count": null,
      "id": "b417909a",
      "metadata": {
        "id": "b417909a",
        "outputId": "5c01ca41-efc3-48ca-9260-975c56646d1e"
      },
      "outputs": [
        {
          "data": {
            "text/html": [
              "<iframe width=\"560\" height=\"315\" src=\"https://www.youtube.com/embed/ak-pz7tS5DE\" title=\"YouTube video player\" frameborder=\"0\" allow=\"accelerometer; autoplay; clipboard-write; encrypted-media; gyroscope; picture-in-picture\" allowfullscreen></iframe>"
            ],
            "text/plain": [
              "<IPython.core.display.HTML object>"
            ]
          },
          "execution_count": 4,
          "metadata": {},
          "output_type": "execute_result"
        }
      ],
      "source": [
        "HTML('<iframe width=\"560\" height=\"315\" src=\"https://www.youtube.com/embed/ak-pz7tS5DE\" title=\"YouTube video player\" frameborder=\"0\" allow=\"accelerometer; autoplay; clipboard-write; encrypted-media; gyroscope; picture-in-picture\" allowfullscreen></iframe>')\n"
      ]
    },
    {
      "cell_type": "markdown",
      "id": "d7628fc6",
      "metadata": {
        "id": "d7628fc6"
      },
      "source": [
        "Like QuickSort, Merge Sort is a Divide and Conquer algorithm. It divides the input array into two halves, calls itself for the two halves, and then merges the two sorted halves. The merge() function is used for merging two halves. The merge(arr, l, m, r) is a key process that assumes that arr[l..m] and arr[m+1..r] are sorted and merges the two sorted sub-arrays into one. See the following C implementation for details.\n",
        "\n",
        "MergeSort(arr[], l,  r)\n",
        "If r > l\n",
        "     1. Find the middle point to divide the array into two halves:  \n",
        "             middle m = l+ (r-l)/2\n",
        "     2. Call mergeSort for first half:   \n",
        "             Call mergeSort(arr, l, m)\n",
        "     3. Call mergeSort for second half:\n",
        "             Call mergeSort(arr, m+1, r)\n",
        "     4. Merge the two halves sorted in step 2 and 3:\n",
        "             Call merge(arr, l, m, r)\n",
        "             \n",
        "             \n",
        " The following diagram from wikipedia shows the complete merge sort process for an example array {38, 27, 43, 3, 9, 82, 10}. If we take a closer look at the diagram, we can see that the array is recursively divided into two halves till the size becomes 1. Once the size becomes 1, the merge processes come into action and start merging arrays back till the complete array is merged."
      ]
    },
    {
      "cell_type": "markdown",
      "id": "34898f55",
      "metadata": {
        "id": "34898f55"
      },
      "source": [
        "![Merge-Sort-Tutorial.png](attachment:Merge-Sort-Tutorial.png)"
      ]
    },
    {
      "cell_type": "markdown",
      "id": "a329130f",
      "metadata": {
        "id": "a329130f"
      },
      "source": [
        "# Quick Sort"
      ]
    },
    {
      "cell_type": "code",
      "execution_count": null,
      "id": "dc3689ce",
      "metadata": {
        "id": "dc3689ce",
        "outputId": "0715a585-fdf6-4c9d-db19-a2a250f828d9"
      },
      "outputs": [
        {
          "data": {
            "text/html": [
              "<iframe width=\"560\" height=\"315\" src=\"https://www.youtube.com/embed/7h1s2SojIRw\" title=\"YouTube video player\" frameborder=\"0\" allow=\"accelerometer; autoplay; clipboard-write; encrypted-media; gyroscope; picture-in-picture\" allowfullscreen></iframe>"
            ],
            "text/plain": [
              "<IPython.core.display.HTML object>"
            ]
          },
          "execution_count": 5,
          "metadata": {},
          "output_type": "execute_result"
        }
      ],
      "source": [
        "from IPython.display import HTML\n",
        "HTML('<iframe width=\"560\" height=\"315\" src=\"https://www.youtube.com/embed/7h1s2SojIRw\" title=\"YouTube video player\" frameborder=\"0\" allow=\"accelerometer; autoplay; clipboard-write; encrypted-media; gyroscope; picture-in-picture\" allowfullscreen></iframe>')\n"
      ]
    },
    {
      "cell_type": "markdown",
      "id": "4f01b8d7",
      "metadata": {
        "id": "4f01b8d7"
      },
      "source": [
        "* http://www.csl.mtu.edu/cs2321/www/newLectures/11_Quick_Sort.html\n",
        "* https://www.programiz.com/dsa/quick-sort"
      ]
    },
    {
      "cell_type": "code",
      "execution_count": null,
      "id": "217d2c8b",
      "metadata": {
        "id": "217d2c8b",
        "outputId": "b5bca44f-547f-4ab3-eb82-6a115b183648"
      },
      "outputs": [
        {
          "data": {
            "text/html": [
              "<iframe width=\"560\" height=\"315\" src=\"https://www.youtube.com/embed/-qOVVRIZzao\" title=\"YouTube video player\" frameborder=\"0\" allow=\"accelerometer; autoplay; clipboard-write; encrypted-media; gyroscope; picture-in-picture\" allowfullscreen></iframe>"
            ],
            "text/plain": [
              "<IPython.core.display.HTML object>"
            ]
          },
          "execution_count": 6,
          "metadata": {},
          "output_type": "execute_result"
        }
      ],
      "source": [
        "HTML('<iframe width=\"560\" height=\"315\" src=\"https://www.youtube.com/embed/-qOVVRIZzao\" title=\"YouTube video player\" frameborder=\"0\" allow=\"accelerometer; autoplay; clipboard-write; encrypted-media; gyroscope; picture-in-picture\" allowfullscreen></iframe>')"
      ]
    },
    {
      "cell_type": "markdown",
      "id": "d0eeb5b2",
      "metadata": {
        "id": "d0eeb5b2"
      },
      "source": [
        "Like Merge Sort, QuickSort is a Divide and Conquer algorithm. It picks an element as pivot and partitions the given array around the picked pivot. There are many different versions of quickSort that pick pivot in different ways.\n",
        "\n",
        "1. Always pick first element as pivot.\n",
        "2. Always pick last element as pivot (implemented below)\n",
        "3. Pick a random element as pivot.\n",
        "4. Pick median as pivot.\n",
        "\n",
        "\n",
        "The key process in quickSort is partition(). Target of partitions is, given an array and an element x of array as pivot, put x at its correct position in sorted array and put all smaller elements (smaller than x) before x, and put all greater elements (greater than x) after x. All this should be done in linear time."
      ]
    },
    {
      "cell_type": "code",
      "execution_count": null,
      "id": "ce55fc5e",
      "metadata": {
        "id": "ce55fc5e",
        "outputId": "82906994-3293-4857-bc14-782293353c1b"
      },
      "outputs": [
        {
          "name": "stdout",
          "output_type": "stream",
          "text": [
            "Sorted array: [1, 5, 7, 8, 9, 10]\n"
          ]
        }
      ],
      "source": [
        "# Python3 implementation of QuickSort\n",
        "\n",
        "# This Function handles sorting part of quick sort\n",
        "# start and end points to first and last element of\n",
        "# an array respectively\n",
        "def partition(start, end, array):\n",
        "\n",
        "    # Initializing pivot's index to start\n",
        "    pivot_index = start\n",
        "    pivot = array[pivot_index]\n",
        "\n",
        "    # This loop runs till start pointer crosses\n",
        "    # end pointer, and when it does we swap the\n",
        "    # pivot with element on end pointer\n",
        "    while start < end:\n",
        "\n",
        "        # Increment the start pointer till it finds an\n",
        "        # element greater than  pivot\n",
        "        while start < len(array) and array[start] <= pivot:\n",
        "            start += 1\n",
        "\n",
        "        # Decrement the end pointer till it finds an\n",
        "        # element less than pivot\n",
        "        while array[end] > pivot:\n",
        "            end -= 1\n",
        "\n",
        "        # If start and end have not crossed each other,\n",
        "        # swap the numbers on start and end\n",
        "        if(start < end):\n",
        "            array[start], array[end] = array[end], array[start]\n",
        "\n",
        "    # Swap pivot element with element on end pointer.\n",
        "    # This puts pivot on its correct sorted place.\n",
        "    array[end], array[pivot_index] = array[pivot_index], array[end]\n",
        "\n",
        "    # Returning end pointer to divide the array into 2\n",
        "    return end\n",
        "\n",
        "# The main function that implements QuickSort\n",
        "def quick_sort(start, end, array):\n",
        "\n",
        "    if (start < end):\n",
        "\n",
        "        # p is partitioning index, array[p]\n",
        "        # is at right place\n",
        "        p = partition(start, end, array)\n",
        "\n",
        "        # Sort elements before partition\n",
        "        # and after partition\n",
        "        quick_sort(start, p - 1, array)\n",
        "        quick_sort(p + 1, end, array)\n",
        "\n",
        "# Driver code\n",
        "array = [ 10, 7, 8, 9, 1, 5 ]\n",
        "quick_sort(0, len(array) - 1, array)\n",
        "\n",
        "print(f'Sorted array: {array}')"
      ]
    },
    {
      "cell_type": "markdown",
      "id": "a351547e",
      "metadata": {
        "id": "a351547e"
      },
      "source": [
        "Time Complexity: θ(nlog(n))\n",
        "\n",
        "Space Complexity: O(log(n))"
      ]
    },
    {
      "cell_type": "markdown",
      "id": "9a81c6c5",
      "metadata": {
        "id": "9a81c6c5"
      },
      "source": [
        "# Heap Sort"
      ]
    },
    {
      "cell_type": "code",
      "execution_count": null,
      "id": "bcb8aa6c",
      "metadata": {
        "id": "bcb8aa6c",
        "outputId": "41a78118-126d-4ac1-c035-a9f3fc976d49"
      },
      "outputs": [
        {
          "data": {
            "text/html": [
              "<iframe width=\"560\" height=\"315\" src=\"https://www.youtube.com/embed/HqPJF2L5h9U\" title=\"YouTube video player\" frameborder=\"0\" allow=\"accelerometer; autoplay; clipboard-write; encrypted-media; gyroscope; picture-in-picture\" allowfullscreen></iframe>"
            ],
            "text/plain": [
              "<IPython.core.display.HTML object>"
            ]
          },
          "execution_count": 8,
          "metadata": {},
          "output_type": "execute_result"
        }
      ],
      "source": [
        "HTML('<iframe width=\"560\" height=\"315\" src=\"https://www.youtube.com/embed/HqPJF2L5h9U\" title=\"YouTube video player\" frameborder=\"0\" allow=\"accelerometer; autoplay; clipboard-write; encrypted-media; gyroscope; picture-in-picture\" allowfullscreen></iframe>')"
      ]
    },
    {
      "cell_type": "markdown",
      "id": "19de7d8c",
      "metadata": {
        "id": "19de7d8c"
      },
      "source": [
        "Heap sort is a comparison-based sorting technique based on Binary Heap data structure. It is similar to selection sort where we first find the minimum element and place the minimum element at the beginning. We repeat the same process for the remaining elements.\n",
        "\n",
        "**What is Binary Heap?**\n",
        "\n",
        "Let us first define a Complete Binary Tree. A complete binary tree is a binary tree in which every level, except possibly the last, is completely filled, and all nodes are as far left as possible (Source Wikipedia)\n",
        "A Binary Heap is a Complete Binary Tree where items are stored in a special order such that the value in a parent node is greater(or smaller) than the values in its two children nodes. The former is called max heap and the latter is called min-heap. The heap can be represented by a binary tree or array.\n",
        "\n",
        "**Why array based representation for Binary Heap?**\n",
        "\n",
        "Since a Binary Heap is a Complete Binary Tree, it can be easily represented as an array and the array-based representation is space-efficient. If the parent node is stored at index I, the left child can be calculated by 2 * I + 1 and the right child by 2 * I + 2 (assuming the indexing starts at 0).\n",
        "\n",
        "**How to “heapify” a tree?**\n",
        "\n",
        "The process of reshaping a binary tree into a Heap data structure is known as ‘heapify’. A binary tree is a tree data structure that has two child nodes at max. If a node’s children nodes are ‘heapified’, then only ‘heapify’ process can be applied over that node. A heap should always be a complete binary tree."
      ]
    },
    {
      "cell_type": "markdown",
      "id": "b8292538",
      "metadata": {
        "id": "b8292538"
      },
      "source": [
        "![n6bxwph6auhpuis9ldsb.gif](attachment:n6bxwph6auhpuis9ldsb.gif)"
      ]
    },
    {
      "cell_type": "code",
      "execution_count": null,
      "id": "966da3a7",
      "metadata": {
        "id": "966da3a7",
        "outputId": "f7dbd0c7-ffac-4f47-ea5a-1dd7aa09bc07"
      },
      "outputs": [
        {
          "name": "stdout",
          "output_type": "stream",
          "text": [
            "Sorted array is\n",
            "5\n",
            "6\n",
            "7\n",
            "11\n",
            "12\n",
            "13\n"
          ]
        }
      ],
      "source": [
        "# Python program for implementation of heap Sort\n",
        "\n",
        "# To heapify subtree rooted at index i.\n",
        "# n is size of heap\n",
        "\n",
        "\n",
        "def heapify(arr, n, i):\n",
        "    largest = i  # Initialize largest as root\n",
        "    l = 2 * i + 1     # left = 2*i + 1\n",
        "    r = 2 * i + 2     # right = 2*i + 2\n",
        "\n",
        "    # See if left child of root exists and is\n",
        "    # greater than root\n",
        "    if l < n and arr[largest] < arr[l]:\n",
        "        largest = l\n",
        "\n",
        "    # See if right child of root exists and is\n",
        "    # greater than root\n",
        "    if r < n and arr[largest] < arr[r]:\n",
        "        largest = r\n",
        "\n",
        "    # Change root, if needed\n",
        "    if largest != i:\n",
        "        arr[i], arr[largest] = arr[largest], arr[i]  # swap\n",
        "\n",
        "        # Heapify the root.\n",
        "        heapify(arr, n, largest)\n",
        "\n",
        "# The main function to sort an array of given size\n",
        "\n",
        "\n",
        "def heapSort(arr):\n",
        "    n = len(arr)\n",
        "\n",
        "    # Build a maxheap.\n",
        "    for i in range(n//2 - 1, -1, -1):\n",
        "        heapify(arr, n, i)\n",
        "\n",
        "    # One by one extract elements\n",
        "    for i in range(n-1, 0, -1):\n",
        "        arr[i], arr[0] = arr[0], arr[i]  # swap\n",
        "        heapify(arr, i, 0)\n",
        "\n",
        "\n",
        "# Driver code\n",
        "arr = [12, 11, 13, 5, 6, 7]\n",
        "heapSort(arr)\n",
        "n = len(arr)\n",
        "print(\"Sorted array is\")\n",
        "for i in range(n):\n",
        "    print(\"%d\" % arr[i]),"
      ]
    },
    {
      "cell_type": "markdown",
      "id": "0cdcec46",
      "metadata": {
        "id": "0cdcec46"
      },
      "source": [
        "### Heap Sort Complexity"
      ]
    },
    {
      "cell_type": "markdown",
      "id": "00bb977f",
      "metadata": {
        "id": "00bb977f"
      },
      "source": [
        "**Time Complexity**\n",
        "\n",
        "    Best\t            O(nlog n)\n",
        "\n",
        "    Worst\t            O(nlog n)\n",
        "\n",
        "    Average\t          O(nlog n)\n",
        "\n",
        "    Space Complexity\tO(1)\n",
        "\n",
        "    Stability\t        No"
      ]
    },
    {
      "cell_type": "markdown",
      "id": "eb98c42d",
      "metadata": {
        "id": "eb98c42d"
      },
      "source": [
        "Heap Sort has O(nlog n) time complexities for all the cases ( best case, average case, and worst case).\n",
        "\n",
        "Let us understand the reason why. The height of a complete binary tree containing n elements is log n\n",
        "\n",
        "As we have seen earlier, to fully heapify an element whose subtrees are already max-heaps, we need to keep comparing the element with its left and right children and pushing it downwards until it reaches a point where both its children are smaller than it.\n",
        "\n",
        "In the worst case scenario, we will need to move an element from the root to the leaf node making a multiple of log(n) comparisons and swaps.\n",
        "\n",
        "During the build_max_heap stage, we do that for n/2 elements so the worst case complexity of the build_heap step is n/2*log n ~ nlog n.\n",
        "\n",
        "During the sorting step, we exchange the root element with the last element and heapify the root element. For each element, this again takes log n worst time because we might have to bring the element all the way from the root to the leaf. Since we repeat this n times, the heap_sort step is also nlog n.\n",
        "\n",
        "Also since the build_max_heap and heap_sort steps are executed one after another, the algorithmic complexity is not multiplied and it remains in the order of nlog n.\n",
        "\n",
        "Also it performs sorting in O(1) space complexity. Compared with Quick Sort, it has a better worst case ( O(nlog n) ). Quick Sort has complexity O(n^2) for worst case. But in other cases, Quick Sort is fast. Introsort is an alternative to heapsort that combines quicksort and heapsort to retain advantages of both: worst case speed of heapsort and average speed of quicksort.\n",
        "\n"
      ]
    },
    {
      "cell_type": "markdown",
      "id": "22cf01e4",
      "metadata": {
        "id": "22cf01e4"
      },
      "source": [
        "# Bubble Sort"
      ]
    },
    {
      "cell_type": "markdown",
      "id": "586a7a55",
      "metadata": {
        "id": "586a7a55"
      },
      "source": [
        "https://www.programiz.com/dsa/bubble-sort"
      ]
    },
    {
      "cell_type": "code",
      "execution_count": null,
      "id": "ce82953d",
      "metadata": {
        "id": "ce82953d",
        "outputId": "11214876-3188-478f-84a9-fb49f0a72368"
      },
      "outputs": [
        {
          "name": "stdout",
          "output_type": "stream",
          "text": [
            "Sorted array is:\n",
            " 11\n",
            " 12\n",
            " 22\n",
            " 25\n",
            " 34\n",
            " 64\n",
            " 90\n"
          ]
        }
      ],
      "source": [
        "def bubbleSort(arr):\n",
        "    n = len(arr)\n",
        "\n",
        "    # Traverse through all array elements\n",
        "    for i in range(n-1):\n",
        "    # range(n) also work but outer loop will\n",
        "    # repeat one time more than needed.\n",
        "\n",
        "        # Last i elements are already in place\n",
        "        for j in range(0, n-i-1):\n",
        "\n",
        "            # traverse the array from 0 to n-i-1\n",
        "            # Swap if the element found is greater\n",
        "            # than the next element\n",
        "            if arr[j] > arr[j + 1] :\n",
        "                arr[j], arr[j + 1] = arr[j + 1], arr[j]\n",
        "\n",
        "# Driver code to test above\n",
        "arr = [64, 34, 25, 12, 22, 11, 90]\n",
        "\n",
        "bubbleSort(arr)\n",
        "\n",
        "print (\"Sorted array is:\")\n",
        "for i in range(len(arr)):\n",
        "    print (\"% d\" % arr[i]),"
      ]
    },
    {
      "cell_type": "code",
      "execution_count": null,
      "id": "f1005a80",
      "metadata": {
        "id": "f1005a80",
        "outputId": "19f55fc1-30e5-4a8c-e335-2c15ec0f2cd3"
      },
      "outputs": [
        {
          "name": "stdout",
          "output_type": "stream",
          "text": [
            "Unsorted list is,\n",
            "[39, 12, 18, 85, 72, 10, 2, 18]\n",
            "Sorted Array is, \n",
            "[2, 10, 12, 18, 18, 39, 72, 85]\n"
          ]
        }
      ],
      "source": [
        "def bubblesort(elements):\n",
        "  # Looping from size of array from last index[-1] to index [0]\n",
        "  for n in range(len(elements)-1, 0, -1):\n",
        "    for i in range(n):\n",
        "      if elements[i] > elements[i + 1]:\n",
        "        # swapping data if the element is less than next element in the array\n",
        "        elements[i], elements[i + 1] = elements[i + 1], elements[i]\n",
        "elements = [39,12,18,85,72,10,2,18]\n",
        "\n",
        "print(\"Unsorted list is,\")\n",
        "print( elements)\n",
        "bubblesort(elements)\n",
        "print(\"Sorted Array is, \")\n",
        "print(elements)"
      ]
    },
    {
      "cell_type": "markdown",
      "id": "1b978270",
      "metadata": {
        "id": "1b978270"
      },
      "source": [
        "# Insertion Sort Algorithm"
      ]
    },
    {
      "cell_type": "markdown",
      "id": "fb2cfd7c",
      "metadata": {
        "id": "fb2cfd7c"
      },
      "source": [
        "https://www.programiz.com/dsa/insertion-sort\n",
        "https://yourbasic.org/algorithms/loop-invariants-explained/\n"
      ]
    },
    {
      "cell_type": "code",
      "execution_count": null,
      "id": "22953f33",
      "metadata": {
        "id": "22953f33",
        "outputId": "41498d96-7d25-4c36-b9a0-8e4a34da3b9d"
      },
      "outputs": [
        {
          "name": "stdout",
          "output_type": "stream",
          "text": [
            "[5, 2, 4, 6, 1, 3]\n",
            "[2, 5, 4, 6, 1, 3]\n",
            "[2, 4, 5, 6, 1, 3]\n",
            "[2, 4, 5, 6, 1, 3]\n",
            "[1, 2, 4, 5, 6, 3]\n",
            "[1, 2, 3, 4, 5, 6]\n"
          ]
        }
      ],
      "source": [
        "# code for Python.\n",
        "arr =[5,2,4,6,1,3]\n",
        "# Traverse through 1 to len(arr)\n",
        "print(arr)\n",
        "for i in range(1, len(arr)):\n",
        "    key = arr[i]\n",
        "# Move elements of arr[0..i-1], that are\n",
        "# greater than key, to one position ahead\n",
        "# of their current position\n",
        "    j = i-1\n",
        "    while j >=0 and key < arr[j] :\n",
        "        arr[j+1] = arr[j]\n",
        "        j -= 1\n",
        "    arr[j+1] = key\n",
        "    print(arr)"
      ]
    },
    {
      "cell_type": "markdown",
      "id": "b623fdcb",
      "metadata": {
        "id": "b623fdcb"
      },
      "source": [
        "# Selection Sort"
      ]
    },
    {
      "cell_type": "code",
      "execution_count": null,
      "id": "e644bd85",
      "metadata": {
        "id": "e644bd85",
        "outputId": "c5bbf16f-62e4-4380-e5bb-3efe738c9dec"
      },
      "outputs": [
        {
          "name": "stdout",
          "output_type": "stream",
          "text": [
            "Sorted array\n",
            "11\n",
            "12\n",
            "22\n",
            "25\n",
            "64\n"
          ]
        }
      ],
      "source": [
        "import sys\n",
        "A = [64, 25, 12, 22, 11]\n",
        "\n",
        "# Traverse through all array elements\n",
        "for i in range(len(A)):\n",
        "\n",
        "    # Find the minimum element in remaining\n",
        "    # unsorted array\n",
        "    min_idx = i\n",
        "    for j in range(i+1, len(A)):\n",
        "        if A[min_idx] > A[j]:\n",
        "            min_idx = j\n",
        "\n",
        "    # Swap the found minimum element with\n",
        "    # the first element\n",
        "    A[i], A[min_idx] = A[min_idx], A[i]\n",
        "\n",
        "# Driver code to test above\n",
        "print (\"Sorted array\")\n",
        "for i in range(len(A)):\n",
        "    print(\"%d\" %A[i]),"
      ]
    },
    {
      "cell_type": "markdown",
      "id": "0365e27a",
      "metadata": {
        "id": "0365e27a"
      },
      "source": [
        "# Ternary Search"
      ]
    },
    {
      "cell_type": "markdown",
      "id": "d8f0289f",
      "metadata": {
        "id": "d8f0289f"
      },
      "source": [
        "https://www.geeksforgeeks.org/ternary-search/?ref=lbp\n",
        "\n",
        "Ternary search is a decrease(by constant) and conquer algorithm that can be used to find an element in an array. It is similar to binary search where we divide the array into two parts but in this algorithm, we divide the given array into three parts and determine which has the key (searched element). We can divide the array into three parts by taking mid1 and mid2 which can be calculated as shown below. Initially, l and r will be equal to 0 and n-1 respectively, where n is the length of the array.\n",
        "Note: Array needs to be sorted to perform ternary search on it.\n",
        "\n",
        "Steps to perform Ternary Search:\n",
        "\n",
        "1. First, we compare the key with the element at mid1. If found equal, we return mid1.\n",
        "2. If not, then we compare the key with the element at mid2. If found equal, we return mid2.\n",
        "3. If not, then we check whether the key is less than the element at mid1. If yes, then recur to the first part.\n",
        "4. If not, then we check whether the key is greater than the element at mid2. If yes, then recur to the third part.\n",
        "5. If not, then we recur to the second (middle) part."
      ]
    },
    {
      "cell_type": "code",
      "execution_count": null,
      "id": "00df1719",
      "metadata": {
        "id": "00df1719",
        "outputId": "cff5a22a-978b-4842-ff7f-1b3ac475655c"
      },
      "outputs": [
        {
          "name": "stdout",
          "output_type": "stream",
          "text": [
            "Index of 5 is 4\n",
            "Index of 50 is -1\n"
          ]
        }
      ],
      "source": [
        "import math as mt\n",
        "\n",
        "# Function to perform Ternary Search\n",
        "def ternarySearch(l, r, key, ar):\n",
        "\n",
        "    if (r >= l):\n",
        "\n",
        "        # Find the mid1 and mid2\n",
        "        mid1 = l + (r - l) //3\n",
        "        mid2 = r - (r - l) //3\n",
        "\n",
        "        # Check if key is present at any mid\n",
        "        if (ar[mid1] == key):\n",
        "            return mid1\n",
        "\n",
        "        if (ar[mid2] == key):\n",
        "            return mid2\n",
        "\n",
        "        # Since key is not present at mid,\n",
        "        # check in which region it is present\n",
        "        # then repeat the Search operation\n",
        "        # in that region\n",
        "        if (key < ar[mid1]):\n",
        "\n",
        "            # The key lies in between l and mid1\n",
        "            return ternarySearch(l, mid1 - 1, key, ar)\n",
        "\n",
        "        elif (key > ar[mid2]):\n",
        "\n",
        "            # The key lies in between mid2 and r\n",
        "            return ternarySearch(mid2 + 1, r, key, ar)\n",
        "\n",
        "        else:\n",
        "\n",
        "            # The key lies in between mid1 and mid2\n",
        "            return ternarySearch(mid1 + 1,\n",
        "                                 mid2 - 1, key, ar)\n",
        "\n",
        "    # Key not found\n",
        "    return -1\n",
        "\n",
        "# Driver code\n",
        "l, r, p = 0, 9, 5\n",
        "\n",
        "# Get the array\n",
        "# Sort the array if not sorted\n",
        "ar = [ 1, 2, 3, 4, 5, 6, 7, 8, 9, 10 ]\n",
        "\n",
        "# Starting index\n",
        "l = 0\n",
        "\n",
        "# length of array\n",
        "r = 9\n",
        "\n",
        "# Checking for 5\n",
        "\n",
        "# Key to be searched in the array\n",
        "key = 5\n",
        "\n",
        "# Search the key using ternarySearch\n",
        "p = ternarySearch(l, r, key, ar)\n",
        "\n",
        "# Print the result\n",
        "print(\"Index of\", key, \"is\", p)\n",
        "\n",
        "# Checking for 50\n",
        "\n",
        "# Key to be searched in the array\n",
        "key = 50\n",
        "\n",
        "# Search the key using ternarySearch\n",
        "p = ternarySearch(l, r, key, ar)\n",
        "\n",
        "# Print the result\n",
        "print(\"Index of\", key, \"is\", p)\n",
        "\n",
        "# This code is contributed by\n",
        "# Mohit kumar 29"
      ]
    },
    {
      "cell_type": "markdown",
      "id": "47e521da",
      "metadata": {
        "id": "47e521da"
      },
      "source": [
        "# Why is Binary Search preferred over Ternary Search?"
      ]
    },
    {
      "cell_type": "markdown",
      "id": "72289793",
      "metadata": {
        "id": "72289793"
      },
      "source": [
        "### The following is a simple recursive Binary Search function in C++ taken from http://geeksquiz.com/binary-search/"
      ]
    },
    {
      "cell_type": "code",
      "execution_count": null,
      "id": "3c25fb90",
      "metadata": {
        "id": "3c25fb90"
      },
      "outputs": [],
      "source": [
        "# A recursive binary search function. It returns location of x in\n",
        "# given array arr[l..r] is present, otherwise -1\n",
        "def binarySearch(arr, l, r, x):\n",
        "    if (r >= l):\n",
        "        mid = l + (r - l)/2;\n",
        "\n",
        "   # If the element is present at the middle itself\n",
        "    if (arr[mid] == x):\n",
        "        return mid;\n",
        "\n",
        "   # If element is smaller than mid, then it can only be present\n",
        "   # in left subarray\n",
        "    if (arr[mid] > x):\n",
        "        return binarySearch(arr, l, mid-1, x);\n",
        "\n",
        "    # Else the element can only be present in right subarray\n",
        "    return binarySearch(arr, mid+1, r, x);\n",
        "\n",
        " # We reach here when element is not present in array\n",
        "    return -1;"
      ]
    },
    {
      "cell_type": "markdown",
      "id": "9a2b13c9",
      "metadata": {
        "id": "9a2b13c9"
      },
      "source": [
        "### The following is a simple recursive Ternary Search function :"
      ]
    },
    {
      "cell_type": "code",
      "execution_count": null,
      "id": "65131ea7",
      "metadata": {
        "id": "65131ea7"
      },
      "outputs": [],
      "source": [
        "# A recursive ternary search function. It returns location of x in\n",
        "# given array arr[l..r] is present, otherwise -1\n",
        "def ternarySearch(arr, l, r, x):\n",
        "    if (r >= l):\n",
        "        mid1 = l + (r - l)//3\n",
        "        mid2 = mid1 + (r - l)//3\n",
        "\n",
        "        # If x is present at the mid1\n",
        "        if arr[mid1] == x:\n",
        "            return mid1\n",
        "\n",
        "        # If x is present at the mid2\n",
        "        if arr[mid2] == x:\n",
        "            return mid2\n",
        "\n",
        "        # If x is present in left one-third\n",
        "        if arr[mid1] > x:\n",
        "            return ternarySearch(arr, l, mid1-1, x)\n",
        "\n",
        "        # If x is present in right one-third\n",
        "        if arr[mid2] < x:\n",
        "            return ternarySearch(arr, mid2+1, r, x)\n",
        "\n",
        "        # If x is present in middle one-third\n",
        "        return ternarySearch(arr, mid1+1, mid2-1, x)\n",
        "\n",
        "    # We reach here when element is not present in array\n",
        "    return -1"
      ]
    },
    {
      "cell_type": "markdown",
      "id": "f94b1383",
      "metadata": {
        "id": "f94b1383"
      },
      "source": [
        "Which of the above two does less comparisons in worst case?\n",
        "\n",
        "From the first look, it seems the ternary search does less number of comparisons as it makes Log3n recursive calls, but binary search makes Log2n recursive calls. Let us take a closer look.\n",
        "\n",
        "The following is recursive formula for counting comparisons in worst case of Binary Search.\n",
        "\n",
        "    T(n) = T(n/2) + 2,  T(1) = 1\n",
        "\n",
        " The following is recursive formula for counting comparisons in worst case of Ternary Search.\n",
        "\n",
        "    T(n) = T(n/3) + 4, T(1) = 1\n",
        "    \n",
        " In binary search, there are 2Log2n + 1 comparisons in worst case. In ternary search, there are 4Log3n + 1 comparisons in worst case.\n",
        "\n",
        "    Time Complexity for Binary search = 2clog2n + O(1)\n",
        "    Time Complexity for Ternary search = 4clog3n + O(1)\n",
        "    \n",
        " Therefore, the comparison of Ternary and Binary Searches boils down the comparison of expressions 2Log3n and Log2n . The value of 2Log3n can be written as (2 / Log23) * Log2n . Since the value of (2 / Log23) is more than one, Ternary Search does more comparisons than Binary Search in worst case."
      ]
    },
    {
      "cell_type": "markdown",
      "id": "36aec1fa",
      "metadata": {
        "id": "36aec1fa"
      },
      "source": [
        "# Stooge Sort"
      ]
    },
    {
      "cell_type": "markdown",
      "id": "eaafc196",
      "metadata": {
        "id": "eaafc196"
      },
      "source": [
        "The Stooge sort is a recursive sorting algorithm. It is defined as below (for ascending order sorting).  \n",
        "\n",
        "Step 1 : If value at index 0 is greater than\n",
        "         value at last index, swap them.\n",
        "         \n",
        "         \n",
        "Step 2:  Recursively,\n",
        "\n",
        "       a) Stooge sort the initial 2/3rd of the array.\n",
        "       b) Stooge sort the last 2/3rd of the array.\n",
        "       c) Stooge sort the initial 2/3rd again to confirm.\n",
        "       \n",
        " NOTE: Always take the ceil of ((2/3)*N) for selecting elements."
      ]
    },
    {
      "cell_type": "markdown",
      "id": "b88656f2",
      "metadata": {
        "id": "b88656f2"
      },
      "source": [
        "Input :   2 4 5 3 1\n",
        "\n",
        "Output : 1 2 3 4 5\n",
        "\n",
        "Explanation:\n",
        "\n",
        "Initially, swap 2 and 1 following above step 1.\n",
        "\n",
        "          1 4 5 3 2\n",
        "          Now, recursively sort initial 2/3rd of the elements.\n",
        "          1 4 5 3 2\n",
        "          1 3 4 5 2\n",
        "          Then, recursively sort last 2/3rd of the elements.\n",
        "          1 3 4 5 2\n",
        "          1 2 3 4 5\n",
        "          Again, sort the initial 2/3rd of the elements to confirm final data is sorted.\n",
        "          1 2 3 4 5"
      ]
    },
    {
      "cell_type": "markdown",
      "id": "12252b81",
      "metadata": {
        "id": "12252b81"
      },
      "source": [
        "![stoogeSort.png](attachment:stoogeSort.png)\n",
        "   "
      ]
    },
    {
      "cell_type": "code",
      "execution_count": null,
      "id": "c470acf4",
      "metadata": {
        "id": "c470acf4",
        "outputId": "50f35e10-41c3-442f-b0bf-66e8c55a0469"
      },
      "outputs": [
        {
          "name": "stdout",
          "output_type": "stream",
          "text": [
            "1 2 3 4 5 "
          ]
        }
      ],
      "source": [
        "# Python program to implement stooge sort\n",
        "\n",
        "def stoogesort(arr, l, h):\n",
        "    if l >= h:\n",
        "        return\n",
        "\n",
        "    # If first element is smaller\n",
        "    # than last, swap them\n",
        "    if arr[l]>arr[h]:\n",
        "        t = arr[l]\n",
        "        arr[l] = arr[h]\n",
        "        arr[h] = t\n",
        "\n",
        "    # If there are more than 2 elements in\n",
        "    # the array\n",
        "    if h-l + 1 > 2:\n",
        "        t = (int)((h-l + 1)/3)\n",
        "\n",
        "        # Recursively sort first 2 / 3 elements\n",
        "        stoogesort(arr, l, (h-t))\n",
        "\n",
        "        # Recursively sort last 2 / 3 elements\n",
        "        stoogesort(arr, l + t, (h))\n",
        "\n",
        "        # Recursively sort first 2 / 3 elements\n",
        "        # again to confirm\n",
        "        stoogesort(arr, l, (h-t))\n",
        "\n",
        "\n",
        "# deriver\n",
        "arr = [2, 4, 5, 3, 1]\n",
        "n = len(arr)\n",
        "\n",
        "stoogesort(arr, 0, n-1)\n",
        "\n",
        "for i in range(0, n):\n",
        "    print(arr[i], end = ' ')\n",
        "\n"
      ]
    },
    {
      "cell_type": "markdown",
      "id": "2964043d",
      "metadata": {
        "id": "2964043d"
      },
      "source": [
        "### Big Omega Notation\n",
        "Best Case Time complexity of an algorithm\n",
        "Just like O notation provide an asymptotic upper bound, Ω notation provides asymptotic lower bound to within a constant factor.\n",
        "\n",
        "* https://www.tutorialspoint.com/big-omega-and-big-thera-notation"
      ]
    },
    {
      "cell_type": "markdown",
      "id": "a67d2b8b",
      "metadata": {
        "id": "a67d2b8b"
      },
      "source": [
        "### Big Theta notation\n",
        "Average Case Time complexity of an algorithm\n",
        "Let f(n) define running time of an algorithm.\n",
        "\n",
        "f(n) is said to be Θ(g(n)) if f(n) is O(g(n)) and f(n) is Ω(g(n))\n",
        "* https://www.youtube.com/watch?v=vOyqP0jXK5c"
      ]
    },
    {
      "cell_type": "markdown",
      "id": "20379e23",
      "metadata": {
        "id": "20379e23"
      },
      "source": [
        "### Time Complexity Analysis:\n",
        "Even though insertion sort is efficient, still, if we provide an already sorted array to the insertion sort algorithm, it will still execute the outer for loop, thereby requiring n steps to sort an already sorted array of n elements, which makes its best case time complexity a linear function of n.\n",
        "\n",
        "Wherein for an unsorted array, it takes for an element to compare with all the other elements which mean every n element compared with all other n elements. Thus, making it for n x n, i.e., n2 comparisons. One can also take a look at other sorting algorithms such as Merge sort, Quick Sort, Selection Sort, etc. and understand their complexities."
      ]
    },
    {
      "cell_type": "markdown",
      "id": "e1ad07f7",
      "metadata": {
        "id": "e1ad07f7"
      },
      "source": [
        "* Worst Case Time Complexity [ Big-O ]: O(n^2)\n",
        "* Best Case Time Complexity [Big-omega]: O(n)\n",
        "* Average Time Complexity [Big-theta]: O(n^2)"
      ]
    },
    {
      "cell_type": "markdown",
      "id": "2871b400",
      "metadata": {
        "id": "2871b400"
      },
      "source": [
        "#### Analysis of algorithms"
      ]
    },
    {
      "cell_type": "markdown",
      "id": "929fc93e",
      "metadata": {
        "id": "929fc93e"
      },
      "source": [
        "* https://en.wikipedia.org/wiki/Analysis_of_algorithms"
      ]
    },
    {
      "cell_type": "markdown",
      "id": "6c2b107e",
      "metadata": {
        "id": "6c2b107e"
      },
      "source": [
        "https://dotnettutorials.net/course/data-structures-and-algorithms-for-beginners-and-professionals/"
      ]
    },
    {
      "cell_type": "markdown",
      "id": "04584713",
      "metadata": {
        "id": "04584713"
      },
      "source": [
        "# Algorithms\n",
        "https://www.programiz.com/dsa/algorithm"
      ]
    },
    {
      "cell_type": "markdown",
      "id": "5535dbc8",
      "metadata": {
        "id": "5535dbc8"
      },
      "source": [
        "## 1. Linear Regression\n",
        "https://www.youtube.com/watch?v=dVH4kMcKvEA&list=PLS1QulWo1RIZOeYXrZdlaWww1UFPvNKVa\n",
        "<img src=\"https://techvidvan.com/tutorials/wp-content/uploads/sites/2/2020/03/linear-regressions.jpg\" width=400 height=400 />"
      ]
    },
    {
      "cell_type": "markdown",
      "id": "533edc9e",
      "metadata": {
        "id": "533edc9e"
      },
      "source": [
        "Linear Regression algorithm will use the data points to find the best fit line to model the data. A line can be represented by the equation, **y = m*x + c** where y is the dependent variable and x is the independent variable. Basic calculus theories are applied to find the values for m and c using the given data set.\n",
        "Linear Regression has 2 types as Simple Linear Regression where only 1 independent variable is used and Multiple Linear Regression where multiple independent variables are defined.\n",
        "Linear regression method is used for predicting the value of the dependent variable by using the values of the independent variable.\n",
        "The linear regression model is suitable for predicting the value of a continuous quantity.\n",
        "\n",
        "OR\n",
        "\n",
        "The linear regression model represents the relationship between the input variables (x) and the output variable (y) of a dataset in terms of a line given by the equation,\n",
        "\n",
        "**y = b0 + b1x**\n",
        "\n",
        "Where,\n",
        "\n",
        "y is the dependent variable whose value we want to predict.\n",
        "x is the independent variable whose values are used for predicting the dependent variable.\n",
        "b0 and b1 are constants in which b0 is the Y-intercept and b1 is the slope.\n",
        "The main aim of this method is to find the value of b0 and b1 to find the best fit line that will be covering or will be nearest to most of the data points.\n",
        "\n",
        "“scikit-learn” is a simple and efficient tool using for machine learning in python. Following is an implementation of Linear Regression using scikit-learn.\n"
      ]
    },
    {
      "cell_type": "code",
      "execution_count": null,
      "id": "c35b6902",
      "metadata": {
        "id": "c35b6902",
        "outputId": "84798a8c-e6be-44a5-94ff-d57cb26c3a46"
      },
      "outputs": [
        {
          "name": "stdout",
          "output_type": "stream",
          "text": [
            "[8.86342983]\n",
            "8\n"
          ]
        }
      ],
      "source": [
        "from sklearn import linear_model, datasets\n",
        "\n",
        "#digit dataset from sklearn\n",
        "digits = datasets.load_digits()\n",
        "\n",
        "#create the LinearRegression model\n",
        "clf = linear_model.LinearRegression()\n",
        "\n",
        "#set training set\n",
        "x, y = digits.data[:-1], digits.target[:-1]\n",
        "\n",
        "#train model\n",
        "clf.fit(x, y)\n",
        "\n",
        "#predict\n",
        "y_pred = clf.predict([digits.data[-1]])\n",
        "y_true = digits.target[-1]\n",
        "\n",
        "print(y_pred)\n",
        "print(y_true)"
      ]
    },
    {
      "cell_type": "markdown",
      "id": "80b7c5cf",
      "metadata": {
        "id": "80b7c5cf"
      },
      "source": [
        "## 2. Logistic Regression\n",
        "https://youtu.be/emHDSX6R6eg\n",
        "<img src=\"https://techvidvan.com/tutorials/wp-content/uploads/sites/2/2020/03/logistic-regressions.jpg\" width=400 height=400 />\n",
        "<img src=\"https://miro.medium.com/max/498/1*Be3Bhz0BA-NgZIYqRVZtug.gif\" width=400 height=400 />"
      ]
    },
    {
      "cell_type": "markdown",
      "id": "ef67be54",
      "metadata": {
        "id": "ef67be54"
      },
      "source": [
        "Linear Regression is always used for representing the relationship between some continuous values. However, contrary to this Logistic Regression works on discrete values.\n",
        "\n",
        "Logistic regression finds the most common application in solving binary classification problems, that is, when there are only two possibilities of an event, either the event will occur or it will not occur (0 or 1).\n",
        "\n",
        "Thus, in Logistic Regression, we convert the predicted values into such values that lie in the range of 0 to 1 by using a non-linear transform function which is called a logistic function.\n",
        "\n",
        "The logistic function results in an S-shaped curve and is therefore also called a Sigmoid function given by the equation,    **?(x) = 1/1+e^-x**\n",
        "The equation of Logistic Regression is, **P(x) = e^(b0+b1x)/1 + e^(b0+b1x)**\n",
        "\n",
        "Where b0 and b1 are coefficients and the goal of Logistic Regression is to find the value of these coefficients.\n"
      ]
    },
    {
      "cell_type": "markdown",
      "id": "34da5624",
      "metadata": {
        "id": "34da5624"
      },
      "source": [
        "## 3. Decision Trees"
      ]
    },
    {
      "cell_type": "markdown",
      "id": "17eb9c29",
      "metadata": {
        "id": "17eb9c29"
      },
      "source": [
        "Decision trees help in solving both classification and prediction problems. It makes it easy to understand the data for better accuracy of the predictions. Each node of the Decision tree represents a feature or an attribute, each link represents a decision and each leaf node holds a class label, that is, the outcome.\n",
        "\n",
        "The drawback of decision trees is that it suffers from the problem of overfitting.\n",
        "\n",
        "Basically, these two Data Science algorithms are most commonly used for implementing the Decision trees.\n",
        "\n",
        "**ID3 ( Iterative Dichotomiser 3) Algorithm**\n",
        "This algorithm uses entropy and information gain as the decision metric.\n",
        "https://en.wikipedia.org/wiki/ID3_algorithm\n",
        "**Entropy**\n",
        "<img src=\"https://wikimedia.org/api/rest_v1/media/math/render/svg/67d6db8ff7b06b9545b541abc6a8cb3c09cea6b9\" width=400 height=400 />\n",
        "**Information gain**\n",
        "<img src=\"https://wikimedia.org/api/rest_v1/media/math/render/svg/b457b0e91764ddd152a362572fc0b6b9a5af3b82\" width=400 height=400 />\n",
        "\n",
        "**Cart ( Classification and Regression Tree) Algorithm**\n",
        "This algorithm uses the Gini index as the decision metric. The below image will help you to understand things better.\n",
        "<img src=\"https://techvidvan.com/tutorials/wp-content/uploads/sites/2/2020/03/cart-algorithm.jpg\" width=400 height=400 />\n"
      ]
    },
    {
      "cell_type": "markdown",
      "id": "151becfa",
      "metadata": {
        "id": "151becfa"
      },
      "source": [
        "## 4. Naive Bayes"
      ]
    },
    {
      "cell_type": "markdown",
      "id": "32ef79db",
      "metadata": {
        "id": "32ef79db"
      },
      "source": [
        "The Naive Bayes algorithm helps in building predictive models. We use this Data Science algorithm when we want to calculate the probability of the occurrence of an event in the future.\n",
        "\n",
        "Here, we have prior knowledge that another event has already occurred.\n",
        "\n",
        "The Naive Bayes algorithm works on the assumption that each feature is independent and has an individual contribution to the final prediction.\n",
        "\n",
        "The Naive Bayes theorem is represented by:\n",
        "\n",
        "P(A|B) = P(B|A) P(A) / P(B)\n",
        "\n",
        "Where A and B are two events.\n",
        "\n",
        "P(A|B) is the posterior probability i.e. the probability of A given that B has already occurred.\n",
        "P(B|A) is the likelihood i.e. the probability of B given that A has already occurred.\n",
        "P(A) is the class prior to probability.\n",
        "P(B) is the predictor prior probability.\n",
        "<img src=\"https://miro.medium.com/max/602/1*ADp6qgk1IVI4oILwQS-1ZA.png\" width=400 height=400 />\n"
      ]
    },
    {
      "cell_type": "markdown",
      "id": "d7861b42",
      "metadata": {
        "id": "d7861b42"
      },
      "source": [
        "## 5. KNN\n",
        "https://youtu.be/lUwxromalPc"
      ]
    },
    {
      "cell_type": "markdown",
      "id": "1f3afbf0",
      "metadata": {
        "id": "1f3afbf0"
      },
      "source": [
        "KNN stands for K-Nearest Neighbors. This Data Science algorithm employs both classification and regression problems.\n",
        "This is a simple algorithm which predicts unknown data point with its k nearest neighbors. The value of k is a critical factor here regarding the accuracy of prediction. It determines the nearest by calculating the distance using basic distance functions like Euclidean.\n",
        "\n",
        "The KNN algorithm considers the complete dataset as the training dataset. After training the model using the KNN algorithm, we try to predict the outcome of a new data point.\n",
        "\n",
        "Here, the KNN algorithm searches the entire data set for identifying the k most similar or nearest neighbors of that data point. It then predicts the outcome based on these k instances.\n",
        "\n",
        "For finding the nearest neighbors of a data instance, we can use various distance measures like Euclidean distance, Hamming distance, etc.\n",
        "\n",
        "To better understand, let us consider the following example.\n",
        "\n",
        "<img src=\"https://techvidvan.com/tutorials/wp-content/uploads/sites/2/2020/03/KNN-Algorithm.jpg\" width=400 height=400 />\n",
        "Here we have represented the two classes A and B by the circle and the square respectively.\n",
        "Let us assume the value of k is 3.\n",
        "\n",
        "Now we will first find three data points that are closest to the new data item and enclose them in a dotted circle. Here the three closest points of the new data item belong to class A. Thus, we can say that the new data point will also belong to class A.\n",
        "\n",
        "Now you all might be thinking that how we assumed k=3?\n",
        "\n",
        "The selection of the value of k is a very critical task. You should take such a value of k that it is neither too small nor too large. Another simpler approach is to take k = √n where n is the number of data points."
      ]
    },
    {
      "cell_type": "code",
      "execution_count": null,
      "id": "be3aafa1",
      "metadata": {
        "id": "be3aafa1",
        "outputId": "79b11187-e10f-46f7-b546-3219096fa16e"
      },
      "outputs": [
        {
          "name": "stdout",
          "output_type": "stream",
          "text": [
            "[8]\n",
            "8\n"
          ]
        }
      ],
      "source": [
        "from sklearn import datasets\n",
        "from sklearn.neighbors import KNeighborsClassifier\n",
        "\n",
        "#digit dataset from sklearn\n",
        "digits = datasets.load_digits()\n",
        "\n",
        "#create the  KNeighborsClassifier\n",
        "clf = KNeighborsClassifier(n_neighbors=6)\n",
        "\n",
        "#set training set\n",
        "x, y = digits.data[:-1], digits.target[:-1]\n",
        "\n",
        "#train model\n",
        "clf.fit(x, y)\n",
        "\n",
        "#predict\n",
        "y_pred = clf.predict([digits.data[-1]])\n",
        "y_true = digits.target[-1]\n",
        "\n",
        "print(y_pred)\n",
        "print(y_true)"
      ]
    },
    {
      "cell_type": "markdown",
      "id": "d171c3fb",
      "metadata": {
        "id": "d171c3fb"
      },
      "source": [
        "## 6. Support Vector Machine (SVM)\n",
        "https://scikit-learn.org/stable/modules/generated/sklearn.svm.SVC.html\n",
        "https://martin-thoma.com/svm-with-sklearn/\n",
        "https://youtu.be/nTmttZ4KdiA\n"
      ]
    },
    {
      "cell_type": "markdown",
      "id": "295f6c1b",
      "metadata": {
        "id": "295f6c1b"
      },
      "source": [
        "Support Vector Machine or SVM comes under the category of supervised Machine Learning algorithms and finds an application in both classification and regression problems. It is most commonly used for classification of problems and classifies the data points by using a hyperplane.\n",
        "\n",
        "The first step of this Data Science algorithm involves plotting all the data items as individual points in an n-dimensional graph.\n",
        "\n",
        "Here, n is the number of features and the value of each individual feature is the value of a specific coordinate. Then we find the hyperplane that best separates the two classes for classifying them.\n",
        "\n",
        "Finding the correct hyperplane plays the most important role in classification. The data points which are closest to the separating hyperplane are the support vectors.\n",
        "<img src=\"https://techvidvan.com/tutorials/wp-content/uploads/sites/2/2020/03/SVm-support-vectors.jpg\" width=400 height=400 />\n",
        "Let us consider the following example to understand how you can identify the right hyperplane.The basic principle for selecting the best hyperplane is that you have to choose the hyperplane that separates the two classes very well.\n",
        "<img src=\"https://techvidvan.com/tutorials/wp-content/uploads/sites/2/2020/03/SVM-hyperlanes.jpg\" width=400 height=400 />\n",
        "In this case, the hyperplane B is classifying the data points very well. Thus, B will be the right hyperplane.\n",
        "<img src=\"https://techvidvan.com/tutorials/wp-content/uploads/sites/2/2020/03/hyperlane-classifying-data-points.jpg\" width=400 height=400 />\n",
        "All three hyperplanes are separating the two classes properly. In such cases, we have to select the hyperplane with the maximum margin.\n",
        "\n",
        "As we can see in the above image, hyperplane B has the maximum margin therefore it will be the right hyperplane.\n",
        "<img src=\"https://techvidvan.com/tutorials/wp-content/uploads/sites/2/2020/03/hyperlane-with-maximum-margin.jpg\" width=400 height=400 />\n",
        "In this case, the hyperplane B has the maximum margin but it is not classifying the two classes accurately. Thus, A will be the right hyperplane."
      ]
    },
    {
      "cell_type": "code",
      "execution_count": null,
      "id": "66fb673d",
      "metadata": {
        "id": "66fb673d",
        "outputId": "7c75ac8e-2665-492f-a1a2-4cb96dfb115b"
      },
      "outputs": [
        {
          "name": "stdout",
          "output_type": "stream",
          "text": [
            "[8]\n",
            "8\n"
          ]
        }
      ],
      "source": [
        "from sklearn import svm, datasets\n",
        "\n",
        "#digit dataset from sklearn\n",
        "digits = datasets.load_digits()\n",
        "\n",
        "#create the  Support Vector Classifier\n",
        "clf = svm.SVC(gamma = 0.001, C = 100)\n",
        "\n",
        "#set training set\n",
        "x, y = digits.data[:-1], digits.target[:-1]\n",
        "\n",
        "#train model\n",
        "clf.fit(x, y)\n",
        "\n",
        "#predict\n",
        "y_pred = clf.predict([digits.data[-1]])\n",
        "y_true = digits.target[-1]\n",
        "\n",
        "print(y_pred)\n",
        "print(y_true)"
      ]
    },
    {
      "cell_type": "markdown",
      "id": "4bf6dfae",
      "metadata": {
        "id": "4bf6dfae"
      },
      "source": [
        "## 7. K-Means Clustering\n",
        "https://youtu.be/SeswFFdH03U"
      ]
    },
    {
      "cell_type": "markdown",
      "id": "34f362a7",
      "metadata": {
        "id": "34f362a7"
      },
      "source": [
        "K-means clustering is a type of unsupervised Machine Learning algorithm.\n",
        "\n",
        "Clustering basically means dividing the data set into groups of similar data items called clusters. K means clustering categorizes the data items into k groups with similar data items.\n",
        "\n",
        "For measuring this similarity, we use Euclidean distance which is given by,\n",
        "\n",
        "**D = √(x1-x2)^2 + (y1-y2)^2**\n",
        "\n",
        "K means clustering is iterative in nature.\n",
        "\n",
        "The basic steps followed by the algorithm are as follows:\n",
        "\n",
        "* First, we select the value of k which is equal to the number of clusters into which we want to categorize our data.\n",
        "* Then we assign the random center values to each of these k clusters.\n",
        "* Now we start searching for the nearest data points to the cluster centers by using the Euclidean distance formula.\n",
        "* In the next step, we calculate the mean of the data points assigned to each cluster.\n",
        "* Again we search for the nearest data points to the newly created centers and assign them to their closest clusters.\n",
        "* We should keep repeating the above steps until there is no change in the data points assigned to the k clusters.\n",
        "\n",
        "<img src=\"https://miro.medium.com/max/376/1*jWlAdba9U1zzbfP3p2y6qg.png\" width=400 height=400 />"
      ]
    },
    {
      "cell_type": "markdown",
      "id": "d49ebc02",
      "metadata": {
        "id": "d49ebc02"
      },
      "source": [
        "## 8. Principal Component Analysis (PCA)"
      ]
    },
    {
      "cell_type": "markdown",
      "id": "b42ffc99",
      "metadata": {
        "id": "b42ffc99"
      },
      "source": [
        "PCA is basically a technique for performing dimensionality reduction of the datasets with the least effect on the variance of the datasets. This means removing the redundant features but keeping the important ones.\n",
        "\n",
        "To achieve this, PCA transforms the variables of the dataset into a new set of variables. This new set of variables represents the principal components.\n",
        "\n",
        "The most important features of these principal components are:\n",
        "\n",
        "All the PCs are orthogonal (i.e. they are at a right angle to each other).\n",
        "They are created in such a way that with the increasing number of components, the amount of variation that it retains starts decreasing.\n",
        "This means the 1st principal component retains the variation to the maximum extent as compared to the original variables.\n",
        "PCA is basically used for summarizing data. While dealing with a dataset there might be some features related to each other. Thus PCA helps you to reduce such features and make predictions with less number of features without compromising with the accuracy.\n",
        "For example, consider the following diagram in which we have reduced a 3D space to a 2D space.\n",
        "<img src=\"https://techvidvan.com/tutorials/wp-content/uploads/sites/2/2020/03/principal-component-analysis.jpg\" width=400 height=400 />"
      ]
    },
    {
      "cell_type": "markdown",
      "id": "48b043b7",
      "metadata": {
        "id": "48b043b7"
      },
      "source": [
        "## 9. Neural Networks"
      ]
    },
    {
      "cell_type": "markdown",
      "id": "3e90f372",
      "metadata": {
        "id": "3e90f372"
      },
      "source": [
        "Neural Networks are also known as Artificial Neural Networks.\n",
        "\n",
        "Let us understand this by an example.neural networks data science algorithms\n",
        "<img src=\"https://techvidvan.com/tutorials/wp-content/uploads/sites/2/2020/03/neural-networks.jpg\" width=400 height=400 />\n",
        "Identifying the digits written in the above image is a very easy task for humans. This is because our brain contains millions of neurons that perform complex calculations for identifying any visual easily in no time.\n",
        "\n",
        "But for machines, this is a very difficult task to do.\n",
        "\n",
        "Neural networks solve this problem by training the machine with a large number of examples. By this, the machine automatically learns from the data for recognizing various digits.\n",
        "Thus we can say that Neural Networks are the Data Science algorithms that work to make the machine identify the various patterns in the same way as a human brain does."
      ]
    },
    {
      "cell_type": "markdown",
      "id": "49b6d103",
      "metadata": {
        "id": "49b6d103"
      },
      "source": [
        "## 10. Random Forests\n",
        "https://youtu.be/2F9QZLvnENQ"
      ]
    },
    {
      "cell_type": "markdown",
      "id": "8dab4132",
      "metadata": {
        "id": "8dab4132"
      },
      "source": [
        "Random Forests overcomes the overfitting problem of decision trees and helps in solving both classification and regression problems. It works on the principle of Ensemble learning.\n",
        "\n",
        "The Ensemble learning methods believe that a large number of weak learners can work together for giving high accuracy predictions.\n",
        "\n",
        "Random Forests work in a much similar way. It considers the prediction of a large number of individual decision trees for giving the final outcome. It calculates the number of votes of predictions of different decision trees and the prediction with the largest number of votes becomes the prediction of the model.\n",
        "\n",
        "Let us understand this by an example.\n",
        "<img src=\"https://techvidvan.com/tutorials/wp-content/uploads/sites/2/2020/03/random-forests-algorithm.jpg\" width=400 height=400 />\n",
        "In the above image, there are two classes labeled as A and B. In this random forest consisting of 7 decision trees, 3 have voted for class A and 4 voted for class B. As class B has received the maximum votes thus the model’s prediction will be class B.\n",
        "<img src=\"https://miro.medium.com/max/480/1*rLYBTFztVFOpAy7m3OtElg.jpeg\" width=400 height=400 />"
      ]
    },
    {
      "cell_type": "markdown",
      "id": "5a89dc34",
      "metadata": {
        "id": "5a89dc34"
      },
      "source": [
        "## 11. Dimensional Reduction Algorithms"
      ]
    },
    {
      "cell_type": "markdown",
      "id": "c9ac4d58",
      "metadata": {
        "id": "c9ac4d58"
      },
      "source": [
        "Some datasets may contain many variables that may cause very hard to handle. Especially nowadays data collecting in systems occur at very detailed level due to the existence of more than enough resources. In such cases, the data sets may contain thousands of variables and most of them can be unnecessary as well.\n",
        "In this case, it is almost impossible to identify the variables which have the most impact on our prediction. Dimensional Reduction Algorithms are used in this kind of situations. It utilizes other algorithms like Random Forest, Decision Tree to identify the most important variables."
      ]
    },
    {
      "cell_type": "markdown",
      "id": "1777358e",
      "metadata": {
        "id": "1777358e"
      },
      "source": [
        "## 12. Gradient Boosting Algorithms"
      ]
    },
    {
      "cell_type": "markdown",
      "id": "d59ba198",
      "metadata": {
        "id": "d59ba198"
      },
      "source": [
        "Gradient Boosting Algorithm uses multiple weak algorithms to create a more powerful accurate algorithm. Instead of using a single estimator, having multiple will create a more stable and robust algorithm.\n",
        "There are several Gradient Boosting Algorithms.\n",
        "* XGBoost — uses liner and tree algorithms\n",
        "* LightGBM — uses only tree-based algorithms\n",
        "The specialty of Gradient Boosting Algorithms is their higher accuracy. Further, algorithms like LightGBM has incredible high performance as well."
      ]
    },
    {
      "cell_type": "code",
      "execution_count": null,
      "id": "0426f791",
      "metadata": {
        "id": "0426f791"
      },
      "outputs": [],
      "source": []
    }
  ],
  "metadata": {
    "kernelspec": {
      "display_name": "Python 3 (ipykernel)",
      "language": "python",
      "name": "python3"
    },
    "language_info": {
      "codemirror_mode": {
        "name": "ipython",
        "version": 3
      },
      "file_extension": ".py",
      "mimetype": "text/x-python",
      "name": "python",
      "nbconvert_exporter": "python",
      "pygments_lexer": "ipython3",
      "version": "3.9.7"
    },
    "colab": {
      "provenance": []
    }
  },
  "nbformat": 4,
  "nbformat_minor": 5
}