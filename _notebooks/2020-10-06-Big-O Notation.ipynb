{
  "cells": [
    {
      "cell_type": "markdown",
      "metadata": {
        "id": "1R3ivZqjA6d2"
      },
      "source": [
        "# Some note of Big-O Notation\n",
        "> Some Algorithm basic that Data Scientist easy to skip.\n",
        "\n",
        "- toc: true\n",
        "- badges: true\n",
        "- comments: true\n",
        "- categories: [Algorithm]"
      ]
    },
    {
      "cell_type": "markdown",
      "metadata": {
        "id": "8BztaSDaA6d4"
      },
      "source": [
        "# It begins with a story\n",
        "***\n",
        "\n",
        "I always recall that when I was kid, my math teacher love to ask a question:\n",
        "\n",
        "- **Who can tell me the answer of adding 1 to 100**?\n",
        "\n",
        "Some student started to calculate: $1+2+3+4+5+6+7+......$.\n",
        "\n",
        "The one who always get No.1 in class tell the answer in a very short time: **It's $5050$**\n",
        "\n",
        "Teacher ask: \"How you do that?\"\n",
        "\n",
        "He said: \"Well, $1+100$ is $101$, and $2+99$ is $101$, there's total $50$ of $101$, so that answer is $50 \\times 101$, which is $5050$.\n",
        "\n",
        "The smart boy definitely not me, I am the one who record this story, but it do inspire me the extended question: **What if we are not adding 1 to 100, but adding 1 to `n`?**\n",
        "\n",
        "Let's solve this question by writing a function to sum from 1 to $n$. That's simple:\n",
        "\n",
        "**Python Solution 1**\n",
        "\n",
        "```python\n",
        "def summation(n):\n",
        "    result = 0\n",
        "    for i in range(1, n+1):\n",
        "        result += i\n",
        "    \n",
        "    return result\n",
        "\n",
        "array = [1, 2, 3, 4, 5]\n",
        "summation(5) == sum(array) #expected True\n",
        "```\n",
        "\n",
        "**Python Solution 2**\n",
        "\n",
        "```python\n",
        "def summation(n):\n",
        "    return n * (n + 1) // 2\n",
        "\n",
        "array = [1, 2, 3, 4, 5]\n",
        "summation(5) == sum(array) #expected True\n",
        "```\n",
        "\n",
        "Can you tell me which algorithm is better? and Why?\n",
        "\n",
        "Some will say: \"I think the Solution 1 is better, because the *Zen of Python* said *Readability Count*, the *Solution 1* is very easy to understand at the first glance, you know what it's doing at the very begnning. \"\n",
        "\n",
        "Some will say: \"I think the Solution 2 is better, because it always one step to get the answer.\"\n",
        "\n",
        "Well, that's close, let's do the step by step analysis to compare this two solution:\n",
        "\n",
        "**Solution 1**:\n",
        "\n",
        "Let's say the $n$ is $5$:\n",
        "- Step 1: initialized `result = 0`\n",
        "- Step 2: Start the loop from `i = 1`, then `result = 1 + 0 = 1`\n",
        "- Step 2: In the Loop: now `i = 2`, execute: `result = 1 + 2 = 3`\n",
        "- Step 3: In the Loop: now `i = 3`, execute: `result = 3 + 3 = 6`\n",
        "- Step 4: In the Loop: now `i = 4`, execute: `result = 6 + 4 = 10`\n",
        "- Step 5: In the Loop: now `i = 5`, execute: `result = 10 + 5 = 15`\n",
        "- Step 6: return the `result` value.\n",
        "\n",
        "**Solution 2**:\n",
        "\n",
        "Let's say the $n$ is $5$:\n",
        "- Step 1: return the value: $\\frac{5 \\times (5 + 1)}{2} = 15$\n",
        "\n",
        "Ok, in the first solution, the *Steps* will grows when the $n$ grows, let's say the $n$ is millions, then the function need to execuate millions time to get the answer. In contrast, no matter how big is the $n$, in the second solution, there will be always one time execuation to get the answers, so no matter in a slower computer, or a super fast computer, **Solution 2** will be always faster than the **Solution 1**\n",
        "\n",
        "Above analysis it just qualitative, what science need is precise, so what's the quantitative analysis for it to precisely identify and analyse the algorithm?\n",
        "\n",
        "# Introducing the Big-O Notation\n",
        "***\n",
        "When trying to characterize an algorithm’s efficiency in terms of execution time, independent of any particular program or computer, it is important to quantify the number of operations or steps that the algorithm will require. If each of these steps is considered to be a basic unit of computation, then the execution time for an algorithm can be expressed as the number of steps required to solve the problem. Deciding on an appropriate basic unit of computation can be a complicated problem and will depend on how the algorithm is implemented.\n",
        "\n",
        "In the summation functions given above, it makes sense to use the number of terms in the summation to denote the size of the problem. We can then say that the sum of the first 100,000 integers is a bigger instance of the summation problem than the sum of the first 1,000. Because of this, it might seem reasonable that the time required to solve the larger case would be greater than for the smaller case. Our goal then is to show how the algorithm’s execution time changes with respect to the size of the problem.\n",
        "\n",
        "Computer scientists prefer to take this analysis technique one step further. It turns out that the exact number of operations is not as important as determining the most dominant part of the $T(n)$ function. In other words, as the problem gets larger, some portion of the $T(n)$ function tends to overpower the rest. This dominant term is what, in the end, is used for comparison. The **Order of Magnitude** function describes the part of $T(n)$ that increases the fastest as the value of $n$ increases. Order of magnitude is often called **Big-O** Notation(for **Order**) and written as $O(f(n))$. It provides a useful approximation to the actual number of steps in the computation. The function $f(n)$ rovides a simple representation of the dominant part of the original $T(n)$.\n",
        "\n",
        "## Common Functions for Big-O:\n",
        "***\n",
        "$n$ --> The size of the input\n",
        "\n",
        "- Constant runtime(Time Complexity): $O(1)$\n",
        "- Logarithmic runtime(Time Complexity): $O(\\log (n))$\n",
        "- Linear runtime(Time Complexity): $O(n)$\n",
        "- LinearLogarithmic runtime(Time Complexity): $O(n\\log (n))$\n",
        "- Quadric runtime(Time Complexity): $O(n^2)$\n",
        "- Cubic runtime(Time Complexity): $O(n^3)$\n",
        "- Exponential runtime(Time Complexity): $O(b^n), b > 1$\n",
        "- Factorial runtime(Time Complexity): $O(n!)$\n",
        "\n",
        "If we plot the graph of each run time:\n",
        "![img](https://runestone.academy/runestone/books/published/pythonds3/_images/newplot.png)\n",
        "\n",
        "So if we visit back our begins story. What do you think the _Time Complexity_ of **Solution 1** and **Solution 2**? Comment below.\n",
        "\n",
        "\n",
        "## Big-O Notation Rules:\n",
        "***\n",
        "\n",
        "### **Rule 1: Different Steps get added**\n",
        "\n",
        "**Example**\n",
        "\n",
        "```python\n",
        "def doSomething():\n",
        "    doStep(a) #O(a)\n",
        "    doStep(b) #O(b)\n",
        "    \n",
        "    return\n",
        "```\n",
        "\n",
        "So for the above example, the Time Complexity should be: $O(a+b)$\n",
        "***\n",
        "\n",
        "### **Rule 2: Drop Constants**\n",
        "\n",
        "**Example**\n",
        "\n",
        "**One**\n",
        "```python\n",
        "def minMax(array):\n",
        "    minimum, maximum = None, None\n",
        "    for i in array:\n",
        "        minimum = min(i, minimum)\n",
        "    for i in array:\n",
        "        maximum = max(i, maximum)\n",
        "    \n",
        "    return minimun, maximum\n",
        "```\n",
        "\n",
        "**Two**\n",
        "```python\n",
        "def minMax(array):\n",
        "    minimum, maximum = None, None\n",
        "    for i in array:\n",
        "        minimum = min(i, minimum)\n",
        "        maximum = max(i, maximum)\n",
        "    \n",
        "    return minimum, maximum\n",
        "```\n",
        "\n",
        "The above TWO functions do the same thing, return the `min` and `max` value from an `array`, but the **One** is first find the `min`, and then find the `max`, so the actual steps is `2n`, while the **Two** is finding the `min`, `max` concurrently, so the actual steps is `n`.\n",
        "\n",
        "You may say the **One** time complexity is `O(2n)` and **Two** time complexity is `O(n)`, the actual answer is both of them time complexity is `O(n)`, because when the `n` approach to `inf`, the constant `2` will be less significant till can be ignored, so this is the **Rule 2: Drop the constant**\n",
        "***\n",
        "\n",
        "### **Rule 3: Different Inputs --> Different Variables**\n",
        "\n",
        "**Example**\n",
        "\n",
        "```python\n",
        "def intersectionSize(arrayA, arrayB):\n",
        "    count = 0\n",
        "    for a in arrayA:\n",
        "        for b in arrayB:\n",
        "            if a == b:\n",
        "                count += 1\n",
        "    \n",
        "    return count\n",
        "```\n",
        "\n",
        "Well, this function have `loop` in the `loop`, we can easily identify it as $O(n^2)$ of time complexity, but actually is False, let's ask a simple question, what is the `n` means? well, we may say `n` is the input size of the array, ok, then which array? `arrayA` or `arrayB`? since this is different variables, and the `n` repersent different variable input size, here we should describe the time complexity as:\n",
        "- $O(a \\times b)$\n",
        "***\n",
        "\n",
        "### **Rule 4: Drop the non-dominant terms**\n",
        "\n",
        "**Example**\n",
        "\n",
        "```python\n",
        "\n",
        "def IdontKnowWhatIamDoing(array:list):\n",
        "    maximun = None\n",
        "    \n",
        "    # O(n) Time complexity\n",
        "    for i in array:\n",
        "        maximun = max(a, maximum)\n",
        "    print(maximum)\n",
        "    \n",
        "    # O(n^2) Time complexity\n",
        "    for a in array:\n",
        "        for b in array:\n",
        "            print(a, b)\n",
        "```\n",
        "\n",
        "We can see from above function `IdontKnowWhatIamDoing`, the 1st part's time complexity is $O(n)$, and the 2nd parts' time complexity is $O(n^2)$, does it mean the total time complexity is $O(n + n^2)$?\n",
        "\n",
        "Well, let's do some simulation:\n",
        "\n",
        "- if `n = 1`, there's $O(1 + 1^2 = 2)$\n",
        "- if `n = 2`, there's $O(2 + 2^2 = 5)$\n",
        "- if `n = 10`, there's $O(10 + 10^2 = 110)$\n",
        "- if `n = 10,000`, there's $O(10,000 + 10,000^2 = ???)$\n",
        "- if `n = 100,000`, there's $O(100,000 + 100,000^2)$\n",
        "\n",
        "What pattern do you found? when the `n` grows, the $n^2$ have more dominance, and the $n$ part become less significant, in the Big-O Notation, we are not doing the details computation, Big-O notation is the unified way to describe an algroithm's time complexity and space complexity(may discuss next post), so we just need to know the donimant term that impact the run time the most. so here we drop the non-dominant term, the time complexity is:\n",
        "\n",
        "- $O(n^2)$\n",
        "\n",
        "***\n",
        "\n",
        "### Some Exercises?\n",
        "\n",
        "We have finished the Rules of Big-O Notation, how about a small exercises? it can be solved based on the info above:\n",
        "![pic](https://github.com/JL1829/turbo-funicular/raw/master/images/Screenshot%202020-10-06%20at%2016.49.15.png)\n"
      ]
    },
    {
      "cell_type": "markdown",
      "metadata": {
        "id": "e_dRaSceA6d5"
      },
      "source": [
        "# An Anagram Example\n",
        "***\n",
        "\n",
        "What is Anagram?\n",
        "\n",
        "We have a word table here:\n",
        "\n",
        "| Word_1 | Word_2 |\n",
        "| ---- | ---- |\n",
        "| earth | heart |\n",
        "| planet | platen |\n",
        "| space | paces |\n",
        "| star | rats |\n",
        "| cosmic | comics |\n",
        "| nebula | unable |\n",
        "| lunar | ulnar |\n",
        "| solar | orals |\n",
        "| sunspots | unstops |\n",
        "\n",
        "Can you find the pattern? Is there any relationship bewteen the `word_1` and `word_2`?\n",
        "\n",
        "In layman term, Anagram is those words, really meaningful word, have the identical letters with others meaningful word:\n",
        "\n",
        "- Meaningful\n",
        "- formed by same letter\n",
        "\n",
        "Just like `earth` and `heart`.\n",
        "\n",
        "So now we know what's Anagram, now write a short function to tell whether this two words is Anagram or not, the function should accept two `string`, and return a `bool` value of `True` or `False` to tell whether this two words is Anagram or not."
      ]
    },
    {
      "cell_type": "markdown",
      "metadata": {
        "id": "gq6a5NM7A6d5"
      },
      "source": [
        "## Solution 1: Checking Off\n",
        "\n",
        "Our first solution to the anagram problem will check the lengths of the strings and then to see that each character in the first string actually occurs in the second. If it is possible to “checkoff” each character, then the two strings must be anagrams. Checking off a character will be accomplished by replacing it with the special Python value `None` However, since strings in Python are immutable, the first step in the process will be to convert the second string to a list. Each character from the first string can be checked against the characters in the list and if found, checked off by replacement."
      ]
    },
    {
      "cell_type": "code",
      "execution_count": null,
      "metadata": {
        "id": "iIDARe8PA6d5"
      },
      "outputs": [],
      "source": [
        "def isAnagram(string1:str, string2:str) -> bool:\n",
        "    anagram = True\n",
        "    if len(string1) != len(string2):\n",
        "        anagram = False\n",
        "\n",
        "    stringList = list(string2)\n",
        "    position_1 = 0\n",
        "\n",
        "    while position_1 < len(string1) and anagram:\n",
        "        position_2 = 0\n",
        "        found = False\n",
        "        while position_2 < len(stringList) and not found:\n",
        "            if string1[position_1] == stringList[position_2]:\n",
        "                found = True\n",
        "            else:\n",
        "                position_2 += 1\n",
        "\n",
        "        if found:\n",
        "            stringList[position_2] = None\n",
        "        else:\n",
        "            anagram = False\n",
        "\n",
        "        position_1 += 1\n",
        "\n",
        "    return anagram"
      ]
    },
    {
      "cell_type": "code",
      "execution_count": null,
      "metadata": {
        "id": "epacZqTMA6d6",
        "outputId": "5b0aa3b5-3791-4d11-afe2-9ca782443aa4"
      },
      "outputs": [
        {
          "name": "stdout",
          "output_type": "stream",
          "text": [
            "True\n",
            "False\n"
          ]
        }
      ],
      "source": [
        "print(isAnagram('earth', 'heart')) # expected: True\n",
        "print(isAnagram('abc', 'abcde')) # expected: False"
      ]
    },
    {
      "cell_type": "markdown",
      "metadata": {
        "id": "cBDfKOK8A6d7"
      },
      "source": [
        "To analyze this algorithm, we need to note that each of the `n` characters in `string1` will cause an iteration through up to `n` characters in the list from `string2`. Each of the `n` position in the list will be visited once to match a character from `string1`. The number of visits then becomes the sum of the integers from `1` to `n`. We stated earlier that this can be written as:\n",
        "\n",
        "$$\\sum_{i=1}^{n}i = \\frac{n(n+1)}{2}$$\n",
        "$$= \\frac{1}{2}n^2 + \\frac{1}{2}n$$\n",
        "\n",
        "As `n` gets large, the $n^2$ term will dominate the `n` term and $\\frac{1}{2}$ can be ignored. Therefore, this solution time complexity is:\n",
        "\n",
        "* $O(n^2)$\n",
        "\n",
        "***\n",
        "\n",
        "## Solution 2: Sort and Compare\n",
        "\n",
        "I am not sure did you notice there's one more pattern of Anagram, is actually both words will have the same length, well, we can come up an other solution that convert the `string` into `list`, then use Python's bulit function `sorted()` to sort this two list, and return the compare boolean value:\n",
        "\n",
        "_This actually a Pythoinc Solution, which may not suitable to other languages_"
      ]
    },
    {
      "cell_type": "code",
      "execution_count": null,
      "metadata": {
        "id": "vOSD71WYA6d7",
        "outputId": "ec8a22bc-28e7-4f3d-e0be-1da827c37919"
      },
      "outputs": [
        {
          "name": "stdout",
          "output_type": "stream",
          "text": [
            "True\n",
            "False\n",
            "True\n"
          ]
        }
      ],
      "source": [
        "del isAnagram #delete function for clear\n",
        "\n",
        "def isAnagram(string1:str, string2:str) -> bool:\n",
        "    return sorted(string1) == sorted(string2)\n",
        "\n",
        "print(isAnagram('earth', 'heart')) # expected: True\n",
        "print(isAnagram('abc', 'abcde')) # expected: False\n",
        "print(isAnagram('cosmic', 'comics')) # expected: True"
      ]
    },
    {
      "cell_type": "markdown",
      "metadata": {
        "id": "zB94HZrtA6d7"
      },
      "source": [
        "We may come up with similar solution that not so Pythonic, being more language neutral"
      ]
    },
    {
      "cell_type": "code",
      "execution_count": null,
      "metadata": {
        "id": "bqROrETKA6d7",
        "outputId": "3cabd2b7-8232-4b08-eec2-2dc4e7a72ec7"
      },
      "outputs": [
        {
          "name": "stdout",
          "output_type": "stream",
          "text": [
            "True\n",
            "False\n",
            "True\n"
          ]
        }
      ],
      "source": [
        "del isAnagram # delete function for clear\n",
        "\n",
        "def isAnagram(string1:str, string2:str) -> bool:\n",
        "    stringList1 = sorted(string1)\n",
        "    stringList2 = sorted(string2)\n",
        "\n",
        "    position = 0\n",
        "    matches = True\n",
        "\n",
        "    if len(stringList1) != len(stringList2):\n",
        "        return False\n",
        "\n",
        "    while position < len(stringList1) and matches:\n",
        "        if stringList1[position] == stringList2[position]:\n",
        "            position += 1\n",
        "        else:\n",
        "            matches = False\n",
        "\n",
        "    return matches\n",
        "\n",
        "print(isAnagram('earth', 'heart')) # expected: True\n",
        "print(isAnagram('abc', 'abcde')) # expected: False\n",
        "print(isAnagram('cosmic', 'comics')) # expected: True"
      ]
    },
    {
      "cell_type": "markdown",
      "metadata": {
        "id": "bTSMlTqMA6d7"
      },
      "source": [
        "At first glance you may be tempted to think that this algorithm is $O(n)$, since there is no simple iteration to compare the $n$ characters after the sorting process. However, the two calls to Python `sorted()` method are not without their own cost. As we go deeper in Python, sorting is typically either $O(n^2)$ or $O(n \\log n)$, so the sorting operations dominate the process. In the end, this algorithm will have the same order of magnitude as the previous solution, which is:\n",
        "\n",
        "- $O(n^2)$"
      ]
    },
    {
      "cell_type": "markdown",
      "metadata": {
        "id": "BWG8CMFeA6d8"
      },
      "source": [
        "## Solution 3: Count and Compare\n",
        "\n",
        "The 4th Solution to the Anagram problem takes advantage of the fact that any two Anagrams will have the same numbers of characters, such as same number of `a`, same number of `b`, and so on. In order to decide whether two strings are Anagrams, we will first count the number of times for each characters. Since there are `26` possible characters, we can use a list of $26$ counters, one for each possible character, just like `One-Hot  encoding` in Data Science.\n",
        "\n",
        "Same as Solution 2, we have one Pythonic Solution, and one non Pythonic solution:\n",
        "\n",
        "**Pythonic Solution**\n",
        "***"
      ]
    },
    {
      "cell_type": "code",
      "execution_count": null,
      "metadata": {
        "id": "el7k4xDFA6d8",
        "outputId": "7aff4567-a082-440e-ff4c-49474d93c790"
      },
      "outputs": [
        {
          "name": "stdout",
          "output_type": "stream",
          "text": [
            "True\n",
            "False\n",
            "True\n"
          ]
        }
      ],
      "source": [
        "# need a help of Counter from collections\n",
        "from collections import Counter\n",
        "\n",
        "del isAnagram # delete function for clear\n",
        "\n",
        "def isAnagram(string1:str, string2:str) -> bool:\n",
        "    if len(string1) != len(string2):\n",
        "        return False\n",
        "\n",
        "    return Counter(string1) == Counter(string2)\n",
        "\n",
        "print(isAnagram('earth', 'heart')) # expected: True\n",
        "print(isAnagram('abc', 'abcde')) # expected: False\n",
        "print(isAnagram('cosmic', 'comics')) # expected: True"
      ]
    },
    {
      "cell_type": "markdown",
      "metadata": {
        "id": "Tq90BrwaA6d8"
      },
      "source": [
        "**Non Pythonic Solution**\n",
        "***\n",
        "\n",
        "The key is we will `one-hot encoding` the string into a list of $26$ characters.\n",
        "\n",
        "**Example**\n",
        "\n",
        "```python\n",
        "string1 = 'apple'\n",
        "\n",
        "# after one-hot encoding\n",
        "[1, 0, 0, 0, 1, 0, 0, 0, 0, 0, 0, 1, 0, 0, 0, 2, 0, 0, 0, 0, 0, 0, 0, 0, 0, 0]\n",
        "```\n",
        "\n",
        "According to the `list`, character `a` in index `0` appear `1` times, character `e` in index `4` appear `1` times.\n",
        "\n",
        "We will convert two string into this `list`, and make a pointer, started from index `0` to compare the appearing times for each characters, if match, then we can say this two strings is Anagrams. So this Algorithm do not have sorting, the time complexity should be $O(n)$"
      ]
    },
    {
      "cell_type": "code",
      "execution_count": null,
      "metadata": {
        "id": "v66GNgqOA6d8",
        "outputId": "46669c24-12b9-4225-a4e6-39415e51a45d"
      },
      "outputs": [
        {
          "name": "stdout",
          "output_type": "stream",
          "text": [
            "True\n",
            "False\n",
            "True\n"
          ]
        }
      ],
      "source": [
        "del isAnagram # delete function for clear\n",
        "\n",
        "def isAnagram(string1:str, string2:str) -> bool:\n",
        "    if len(string1) != len(string2):\n",
        "        return False\n",
        "\n",
        "    # construct empty one-hot encoding list\n",
        "    stringList1 = [0] * 26\n",
        "    stringList2 = [0] * 26\n",
        "\n",
        "    # iterate to contruct the one-hot encoding\n",
        "    for i in range(len(string1)):\n",
        "        position = ord(string1[i]) - ord('a')\n",
        "        stringList1[position] += 1\n",
        "\n",
        "    for i in range(len(string2)):\n",
        "        position = ord(string2[i]) - ord('a')\n",
        "        stringList2[position] += 1\n",
        "\n",
        "    pointer = 0\n",
        "    anagram = True\n",
        "    while pointer < 26 and anagram:\n",
        "        if stringList1[pointer] == stringList2[pointer]:\n",
        "            pointer += 1\n",
        "        else:\n",
        "            anagram = False\n",
        "\n",
        "    return anagram\n",
        "\n",
        "print(isAnagram('earth', 'heart')) # expected: True\n",
        "print(isAnagram('abc', 'abcde')) # expected: False\n",
        "print(isAnagram('cosmic', 'comics')) # expected: True"
      ]
    },
    {
      "cell_type": "markdown",
      "metadata": {
        "id": "odU-_5ISA6d8"
      },
      "source": [
        "Again, the solution has a number of iterations. However, unlike the first solution, none of them are nested. The first two iterations used to count the characters are both based on n. The third iteration, comparing the two lists of counts, always takes $26$ steps since there are $26$ possible characters in the strings. Adding it all up gives us $T(n) = 2n + 26$ steps, That is $O(n)$. We have found linear order of magnitude algorithm for solving this problem.\n",
        "\n",
        "# Some Exercise Again?\n",
        "\n",
        "- Given the following code fragment, what is its Big-O running time?\n",
        "```python\n",
        "test = 0\n",
        "for i in range(n):\n",
        "    for j in range(n):\n",
        "        test = test + i * j\n",
        "```\n",
        "\n",
        "- Given the following code fragment, what is its Big-O running time?\n",
        "```python\n",
        "test = 0\n",
        "for i in range(n):\n",
        "    test += 1\n",
        "for j in range(n):\n",
        "    test -= 1\n",
        "```\n",
        "\n",
        "- Given the following code fragment, what is its Big-O running time?\n",
        "```python\n",
        "i = n\n",
        "while i > 0:\n",
        "    k = 2 + 2\n",
        "    i = i // 2\n",
        "```\n",
        "\n",
        "# Exercise Solution:\n",
        "\n",
        "Still reading? now solution time:\n",
        "\n",
        "![pic](https://github.com/JL1829/turbo-funicular/raw/master/images/Screenshot%202020-10-06%20at%2022.19.18.png)\n",
        "\n"
      ]
    },
    {
      "cell_type": "code",
      "execution_count": null,
      "metadata": {
        "id": "wMJB-iooA6d9"
      },
      "outputs": [],
      "source": []
    }
  ],
  "metadata": {
    "kernelspec": {
      "display_name": "Python 3",
      "language": "python",
      "name": "python3"
    },
    "language_info": {
      "codemirror_mode": {
        "name": "ipython",
        "version": 3
      },
      "file_extension": ".py",
      "mimetype": "text/x-python",
      "name": "python",
      "nbconvert_exporter": "python",
      "pygments_lexer": "ipython3",
      "version": "3.7.7"
    },
    "colab": {
      "provenance": []
    }
  },
  "nbformat": 4,
  "nbformat_minor": 0
}